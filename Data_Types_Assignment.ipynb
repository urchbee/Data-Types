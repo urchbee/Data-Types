{
  "nbformat": 4,
  "nbformat_minor": 0,
  "metadata": {
    "colab": {
      "name": "Data Types Assignment.ipynb",
      "provenance": [],
      "collapsed_sections": [],
      "authorship_tag": "ABX9TyNpDYmf6tgb4Ya/WuDLBpOF",
      "include_colab_link": true
    },
    "kernelspec": {
      "name": "python3",
      "display_name": "Python 3"
    },
    "language_info": {
      "name": "python"
    }
  },
  "cells": [
    {
      "cell_type": "markdown",
      "metadata": {
        "id": "view-in-github",
        "colab_type": "text"
      },
      "source": [
        "<a href=\"https://colab.research.google.com/github/urchbee/Data-Types/blob/main/Data_Types_Assignment.ipynb\" target=\"_parent\"><img src=\"https://colab.research.google.com/assets/colab-badge.svg\" alt=\"Open In Colab\"/></a>"
      ]
    },
    {
      "cell_type": "markdown",
      "metadata": {
        "id": "ImgoWf8MW_sk"
      },
      "source": [
        ""
      ]
    },
    {
      "cell_type": "code",
      "metadata": {
        "colab": {
          "base_uri": "https://localhost:8080/"
        },
        "id": "0cKwa1HyarYi",
        "outputId": "1e31c5da-2520-494c-8f36-c950505e5df2"
      },
      "source": [
        "message = \"a variable is used when referring to a value\"\n",
        "print(message)"
      ],
      "execution_count": null,
      "outputs": [
        {
          "output_type": "stream",
          "name": "stdout",
          "text": [
            "a variable is used when referring to a value\n"
          ]
        }
      ]
    },
    {
      "cell_type": "code",
      "metadata": {
        "id": "FSZHYIpmcRfR"
      },
      "source": [
        "x = 3\n",
        "y = 5\n",
        "name = \"sandra\"\n",
        "age = 31\n",
        "location = \"canada\"\n"
      ],
      "execution_count": null,
      "outputs": []
    },
    {
      "cell_type": "code",
      "metadata": {
        "colab": {
          "base_uri": "https://localhost:8080/"
        },
        "id": "Wfxa9BGWeAaG",
        "outputId": "b7e3d0ff-8765-4bc1-dbd3-0f8af0bc305d"
      },
      "source": [
        "b = False\n",
        "number = \"1000\"\n",
        "radius = 7.0\n",
        "diameter = 14\n",
        "country= 'Nigeria'\n",
        "\n",
        "print(type(b))\n",
        "print(type(number))\n",
        "print(type(radius))\n",
        "print(type(diameter))\n",
        "print(type(country))\n"
      ],
      "execution_count": null,
      "outputs": [
        {
          "output_type": "stream",
          "name": "stdout",
          "text": [
            "<class 'bool'>\n",
            "<class 'str'>\n",
            "<class 'float'>\n",
            "<class 'int'>\n",
            "<class 'str'>\n"
          ]
        }
      ]
    },
    {
      "cell_type": "code",
      "metadata": {
        "colab": {
          "base_uri": "https://localhost:8080/"
        },
        "id": "vhCBSC9kwrpB",
        "outputId": "0622c060-beaa-4783-abce-f74215c65057"
      },
      "source": [
        "\n",
        "answer = \"You're right, he won't agree to this deal.\"\n",
        "print(answer)"
      ],
      "execution_count": null,
      "outputs": [
        {
          "output_type": "stream",
          "name": "stdout",
          "text": [
            "You're right, he won't agree to this deal.\n"
          ]
        }
      ]
    },
    {
      "cell_type": "markdown",
      "metadata": {
        "id": "kK3KnEfznC_N"
      },
      "source": [
        ""
      ]
    },
    {
      "cell_type": "code",
      "metadata": {
        "colab": {
          "base_uri": "https://localhost:8080/",
          "height": 183
        },
        "id": "YVaHOrSJT_H_",
        "outputId": "8ef9e613-1dcd-4cc8-961e-d04e8a28d0de"
      },
      "source": [
        "a = 15.55.islower()\n",
        "print(a)"
      ],
      "execution_count": 18,
      "outputs": [
        {
          "output_type": "error",
          "ename": "AttributeError",
          "evalue": "ignored",
          "traceback": [
            "\u001b[0;31m---------------------------------------------------------------------------\u001b[0m",
            "\u001b[0;31mAttributeError\u001b[0m                            Traceback (most recent call last)",
            "\u001b[0;32m<ipython-input-18-cc90249535bf>\u001b[0m in \u001b[0;36m<module>\u001b[0;34m()\u001b[0m\n\u001b[0;32m----> 1\u001b[0;31m \u001b[0ma\u001b[0m \u001b[0;34m=\u001b[0m \u001b[0;36m15.55\u001b[0m\u001b[0;34m.\u001b[0m\u001b[0mislower\u001b[0m\u001b[0;34m(\u001b[0m\u001b[0;34m)\u001b[0m\u001b[0;34m\u001b[0m\u001b[0;34m\u001b[0m\u001b[0m\n\u001b[0m\u001b[1;32m      2\u001b[0m \u001b[0mprint\u001b[0m\u001b[0;34m(\u001b[0m\u001b[0ma\u001b[0m\u001b[0;34m)\u001b[0m\u001b[0;34m\u001b[0m\u001b[0;34m\u001b[0m\u001b[0m\n",
            "\u001b[0;31mAttributeError\u001b[0m: 'float' object has no attribute 'islower'"
          ]
        }
      ]
    },
    {
      "cell_type": "markdown",
      "metadata": {
        "id": "16rR1JJsURAd"
      },
      "source": [
        "the output comes out as error because the method only checks if the alphabetical characters are in lower case"
      ]
    },
    {
      "cell_type": "code",
      "metadata": {
        "colab": {
          "base_uri": "https://localhost:8080/"
        },
        "id": "QzXP1wjxVJP3",
        "outputId": "af4c034b-162e-4df2-d2f8-555302611ad3"
      },
      "source": [
        "b = \"my name is sandra\"\n",
        "c = b.islower()\n",
        "print(c)\n"
      ],
      "execution_count": 20,
      "outputs": [
        {
          "output_type": "stream",
          "name": "stdout",
          "text": [
            "True\n"
          ]
        }
      ]
    },
    {
      "cell_type": "markdown",
      "metadata": {
        "id": "5z-VgGNUVjy2"
      },
      "source": [
        "with this illustration, the output shows that this string is true because it contains all lower case alphabetical characters"
      ]
    },
    {
      "cell_type": "code",
      "metadata": {
        "colab": {
          "base_uri": "https://localhost:8080/"
        },
        "id": "Qigkh6XpV446",
        "outputId": "ba7e3c2c-82f6-4f7b-8322-c86cea0dc56c"
      },
      "source": [
        "a = 4\n",
        "b = 8\n",
        "print(\"I prefer episode {} of Squid Game than episode {}\".format(a, b))"
      ],
      "execution_count": 30,
      "outputs": [
        {
          "output_type": "stream",
          "name": "stdout",
          "text": [
            "I prefer episode 4 of Squid Game than episode 8\n"
          ]
        }
      ]
    },
    {
      "cell_type": "code",
      "metadata": {
        "colab": {
          "base_uri": "https://localhost:8080/"
        },
        "id": "dyUitEsBZHPT",
        "outputId": "c45e80ba-314a-46e2-8239-a9d02809c472"
      },
      "source": [
        "x = \"Faith\"\n",
        "y = \"07:50\"\n",
        "z = \"http://kadatemy.com/courses/pythonfordatascience/class1 \"\n",
        "print(\"{} accessed the site {} at {}\".format(x, z, y))"
      ],
      "execution_count": 31,
      "outputs": [
        {
          "output_type": "stream",
          "name": "stdout",
          "text": [
            "Faith accessed the site http://kadatemy.com/courses/pythonfordatascience/class1  at 07:50\n"
          ]
        }
      ]
    },
    {
      "cell_type": "code",
      "metadata": {
        "colab": {
          "base_uri": "https://localhost:8080/"
        },
        "id": "KSc7HYo-ZJWP",
        "outputId": "558ff256-5472-4fda-c0e9-90ce1e7748ff"
      },
      "source": [
        "string1 = \"Python exercises are fun. It is very satisfying to solve problems using this computer language.\"\n",
        "print(len(string1))\n",
        "print(string1[0])\n",
        "print(string1[-1])\n",
        "print(string1[7:16])\n",
        "print(string1[86:94])\n",
        "x = string1[0:2] + string1[-1:]\n",
        "print(x)\n",
        "print(string1.count(\"e\"))\n",
        "print(string1.count(\"s\"))\n"
      ],
      "execution_count": 140,
      "outputs": [
        {
          "output_type": "stream",
          "name": "stdout",
          "text": [
            "95\n",
            "P\n",
            ".\n",
            "exercises\n",
            "language\n",
            "Py.\n",
            "9\n",
            "9\n"
          ]
        }
      ]
    },
    {
      "cell_type": "code",
      "metadata": {
        "colab": {
          "base_uri": "https://localhost:8080/"
        },
        "id": "TTldk34y9NsW",
        "outputId": "ddd10ace-c6a1-424c-c1cf-8af41829b7ba"
      },
      "source": [
        "str2 =  \" I'm enjoying this a lot! I could do with more exercises. \"\n",
        "print(str2.strip())\n",
        "print(str2.isnumeric())\n",
        "print(str2.rindex(\"i\"))"
      ],
      "execution_count": 125,
      "outputs": [
        {
          "output_type": "stream",
          "name": "stdout",
          "text": [
            "I'm enjoying this a lot! I could do with more exercises.\n",
            "False\n",
            "52\n"
          ]
        }
      ]
    },
    {
      "cell_type": "code",
      "metadata": {
        "colab": {
          "base_uri": "https://localhost:8080/"
        },
        "id": "bPCkxH6fBUFn",
        "outputId": "c68d89d7-6414-468c-de3c-f26eec38b8e0"
      },
      "source": [
        "str1 = \"Python exercises are fun. It is very satisfying to solve problems using this computer language.\"\n",
        "str2 = \" I'm enjoying this a lot! I could do with more exercises. \"\n",
        "x = str1 +  str2\n",
        "print(x)"
      ],
      "execution_count": 129,
      "outputs": [
        {
          "output_type": "stream",
          "name": "stdout",
          "text": [
            "Python exercises are fun. It is very satisfying to solve problems using this computer language. I'm enjoying this a lot! I could do with more exercises. \n"
          ]
        }
      ]
    },
    {
      "cell_type": "code",
      "metadata": {
        "colab": {
          "base_uri": "https://localhost:8080/"
        },
        "id": "kR_XfcTxC9Hi",
        "outputId": "3aa94232-4cfc-435a-8d9c-0f031c76bc6a"
      },
      "source": [
        "x = \"3490003\"\n",
        "print(x.isnumeric())"
      ],
      "execution_count": 132,
      "outputs": [
        {
          "output_type": "stream",
          "name": "stdout",
          "text": [
            "True\n"
          ]
        }
      ]
    }
  ]
}